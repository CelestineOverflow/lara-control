{
 "cells": [
  {
   "cell_type": "code",
   "execution_count": 2,
   "metadata": {},
   "outputs": [
    {
     "ename": "ModuleNotFoundError",
     "evalue": "No module named 'jsondx'",
     "output_type": "error",
     "traceback": [
      "\u001b[1;31m---------------------------------------------------------------------------\u001b[0m",
      "\u001b[1;31mModuleNotFoundError\u001b[0m                       Traceback (most recent call last)",
      "Cell \u001b[1;32mIn[2], line 8\u001b[0m\n\u001b[0;32m      6\u001b[0m \u001b[38;5;28;01mimport\u001b[39;00m \u001b[38;5;21;01mtime\u001b[39;00m\n\u001b[0;32m      7\u001b[0m \u001b[38;5;28;01mfrom\u001b[39;00m \u001b[38;5;21;01mIPython\u001b[39;00m\u001b[38;5;21;01m.\u001b[39;00m\u001b[38;5;21;01mdisplay\u001b[39;00m \u001b[38;5;28;01mimport\u001b[39;00m clear_output\n\u001b[1;32m----> 8\u001b[0m \u001b[38;5;28;01mimport\u001b[39;00m \u001b[38;5;21;01mjsondx\u001b[39;00m\n",
      "\u001b[1;31mModuleNotFoundError\u001b[0m: No module named 'jsondx'"
     ]
    }
   ],
   "source": [
    "import os\n",
    "os.environ[\"OPENCV_VIDEOIO_MSMF_ENABLE_HW_TRANSFORMS\"] = \"0\"\n",
    "import cv2\n",
    "import numpy as np\n",
    "import glob\n",
    "import time\n",
    "from IPython.display import clear_output\n",
    "import jsondx"
   ]
  },
  {
   "cell_type": "code",
   "execution_count": 3,
   "metadata": {},
   "outputs": [
    {
     "name": "stdout",
     "output_type": "stream",
     "text": [
      "Camera index: 0\n",
      "Camera index: 2\n",
      "Camera index: 3\n",
      "Camera index: 4\n",
      "Camera index: 6\n",
      "Available cameras: [0, 2, 3, 4, 6]\n"
     ]
    }
   ],
   "source": [
    "def getAvailibleCameras():\n",
    "    available_cameras = []\n",
    "    for i in range(10):\n",
    "        try:\n",
    "            camera = cv2.VideoCapture(i, cv2.CAP_DSHOW)\n",
    "            if camera.isOpened():\n",
    "                print(\"Camera index:\", i)\n",
    "                camera.release()\n",
    "                available_cameras.append(i)\n",
    "        except Exception as e:\n",
    "            print(e)\n",
    "    return available_cameras\n",
    "\n",
    "print(\"Available cameras:\", getAvailibleCameras())\n"
   ]
  },
  {
   "cell_type": "markdown",
   "metadata": {},
   "source": [
    "### https://markhedleyjones.com/projects/calibration-checkerboard-collection\n",
    "Used a 8 x 6 Checker board with 25mm titles an A4 paper in full pages without margin"
   ]
  },
  {
   "cell_type": "code",
   "execution_count": null,
   "metadata": {},
   "outputs": [],
   "source": [
    "# cap = cv2.VideoCapture(0, cv2.CAP_MSMF) # u can use cv2.CAP_DSHOW / cv2.CAP_MSMF / cv2.CAP_VFW / cv2.CAP_ANY\n",
    "\n",
    "cap = cv2.VideoCapture(3,cv2.CAP_MSMF)\n",
    "cap.set(cv2.CAP_PROP_FRAME_WIDTH, 3840)\n",
    "cap.set(cv2.CAP_PROP_FRAME_HEIGHT, 2160)\n",
    "#1080p\n",
    "# q\n",
    "if not cap.isOpened():\n",
    "    raise Exception(\"Could not open video device\")\n",
    "\n",
    "while True:\n",
    "    #capture an image and show it \n",
    "    ret, frame = cap.read()\n",
    "    if not ret:\n",
    "        raise Exception(\"Could not read frame\")\n",
    "    #show the image\n",
    "    resized = cv2.resize(frame, (0, 0), fx=0.25, fy=0.25)\n",
    "    cv2.imshow(\"resized\", resized)\n",
    "    if cv2.waitKey(1) & 0xFF == ord('q'):\n",
    "        break\n",
    "cv2.destroyAllWindows()\n"
   ]
  },
  {
   "cell_type": "code",
   "execution_count": null,
   "metadata": {},
   "outputs": [],
   "source": [
    "cap = cv2.VideoCapture(3,cv2.CAP_MSMF)\n",
    "cap.set(cv2.CAP_PROP_FRAME_WIDTH, 3840)\n",
    "cap.set(cv2.CAP_PROP_FRAME_HEIGHT, 2160)\n",
    "\n",
    "\n",
    "save_path = 'calibration_images_close_up'\n",
    "if not os.path.exists(save_path):\n",
    "    os.mkdir(save_path)\n",
    "img_counter = 20\n",
    "#checkerboars settings\n",
    "CHECKERBOARD = (7,7)\n",
    "do_wait = False\n",
    "scale = 0.25\n",
    "while True:\n",
    "    ret, frame = cap.read()\n",
    "    if ret:\n",
    "        gray = cv2.cvtColor(frame ,cv2.COLOR_BGR2GRAY)\n",
    "\n",
    "        gray = cv2.resize(gray, (0, 0), fx=scale, fy=scale)\n",
    "\n",
    "        result, corners = cv2.findChessboardCorners(gray, CHECKERBOARD, cv2.CALIB_CB_ADAPTIVE_THRESH + cv2.CALIB_CB_FAST_CHECK + cv2.CALIB_CB_NORMALIZE_IMAGE)\n",
    "        if result == True:\n",
    "            cv2.imwrite(os.path.join(save_path, 'calibration_image_{}.png'.format(img_counter)), frame)\n",
    "            img_counter += 1\n",
    "            frame = cv2.resize(frame, (0, 0), fx=scale, fy=scale)\n",
    "            cv2.drawChessboardCorners(frame, CHECKERBOARD, corners, result)\n",
    "            cv2.imshow(\"frame\", frame)\n",
    "        else:\n",
    "            frame = cv2.resize(frame, (0, 0), fx=scale, fy=scale)\n",
    "            cv2.imshow(\"frame\", frame)\n",
    "        if cv2.waitKey(1) & 0xFF == ord('q'):\n",
    "            break\n",
    "    else:\n",
    "        break\n",
    "cap.release()\n",
    "cv2.destroyAllWindows()\n",
    "        "
   ]
  },
  {
   "cell_type": "code",
   "execution_count": null,
   "metadata": {},
   "outputs": [],
   "source": [
    "img_path = save_path\n",
    "imgs_path = glob.glob(img_path + '/*.png')\n",
    "for img_path in imgs_path:\n",
    "    print(img_path)"
   ]
  },
  {
   "cell_type": "code",
   "execution_count": null,
   "metadata": {},
   "outputs": [],
   "source": [
    "# Defining the dimensions of checkerboard\n",
    "CHECKERBOARD = (7,7)\n",
    "CHECKERBOARD_CELL_SIZE = 0.004 # in meters\n",
    "criteria = (cv2.TERM_CRITERIA_EPS + cv2.TERM_CRITERIA_MAX_ITER, 30, 0.001)\n",
    " \n",
    "# Creating vector to store vectors of 3D points for each checkerboard image\n",
    "objpoints = []\n",
    "# Creating vector to store vectors of 2D points for each checkerboard image\n",
    "imgpoints = [] \n",
    " \n",
    " \n",
    "# Defining the world coordinates for 3D points\n",
    "objp = np.zeros((1, CHECKERBOARD[0] * CHECKERBOARD[1], 3), np.float32)\n",
    "objp[0,:,:2] = np.mgrid[0:CHECKERBOARD[0], 0:CHECKERBOARD[1]].T.reshape(-1, 2)\n",
    "prev_img_shape = None\n",
    "\n",
    "for fname in imgs_path:\n",
    "    img = cv2.imread(fname)\n",
    "    gray = cv2.cvtColor(img,cv2.COLOR_BGR2GRAY)\n",
    "    # Find the chess board corners\n",
    "    # If desired number of corners are found in the image then ret = true\n",
    "    ret, corners = cv2.findChessboardCorners(gray, CHECKERBOARD, cv2.CALIB_CB_ADAPTIVE_THRESH + cv2.CALIB_CB_FAST_CHECK + cv2.CALIB_CB_NORMALIZE_IMAGE)\n",
    "     \n",
    "    \"\"\"\n",
    "    If desired number of corner are detected,\n",
    "    we refine the pixel coordinates and display \n",
    "    them on the images of checker boardq\n",
    "    \"\"\"\n",
    "    if ret == True:\n",
    "        objpoints.append(objp)\n",
    "        # refining pixel coordinates for given 2d points.\n",
    "        corners2 = cv2.cornerSubPix(gray, corners, (11,11),(-1,-1), criteria)\n",
    "         \n",
    "        imgpoints.append(corners2)\n",
    " \n",
    "        # Draw and display the corners\n",
    "        img = cv2.drawChessboardCorners(img, CHECKERBOARD, corners2, ret)\n",
    "        # print 'press any key to continue'\n",
    "        img = cv2.putText(img, 'press any key to continue', (10, 30), cv2.FONT_HERSHEY_SIMPLEX, 1, (0, 255, 0), 2, cv2.LINE_AA)\n",
    "    cv2.imshow('img',img)\n",
    "    cv2.waitKey(0)\n",
    " \n",
    "cv2.destroyAllWindows()\n",
    " \n",
    "h,w = img.shape[:2]\n",
    " \n",
    "\"\"\"\n",
    "Performing camera calibration by \n",
    "passing the value of known 3D points (objpoints)\n",
    "and corresponding pixel coordinates of the \n",
    "detected corners (imgpoints)\n",
    "\"\"\"\n",
    "ret, mtx, dist, rvecs, tvecs = cv2.calibrateCamera(objpoints, imgpoints, gray.shape[::-1], None, None)\n",
    " \n",
    "print(\"Camera matrix : \\n\")\n",
    "print(mtx)\n",
    "print(\"dist : \\n\")\n",
    "print(dist)\n",
    "print(\"rvecs : \\n\")\n",
    "print(rvecs)\n",
    "print(\"tvecs : \\n\")\n",
    "print(tvecs)"
   ]
  },
  {
   "cell_type": "code",
   "execution_count": null,
   "metadata": {},
   "outputs": [],
   "source": [
    "#save the camera matrix and distortion coefficients\n",
    "with open(f'{save_path}/calibration_data.json', 'w') as outfile:\n",
    "    json.dump({'mtx': mtx.tolist(), 'dist': dist.tolist()}, outfile)\n",
    "#reconstruct the camera matrix and distortion coefficients\n",
    "with open(f'{save_path}/calibration_data.json', 'r') as infile:\n",
    "    reconstruction = json.load(infile)\n",
    "    new_mtx = np.array(reconstruction['mtx'])\n",
    "    new_dist = np.array(reconstruction['dist'])\n",
    "cv2.destroyAllWindows()\n",
    "print('done')"
   ]
  }
 ],
 "metadata": {
  "kernelspec": {
   "display_name": "Python 3",
   "language": "python",
   "name": "python3"
  },
  "language_info": {
   "codemirror_mode": {
    "name": "ipython",
    "version": 3
   },
   "file_extension": ".py",
   "mimetype": "text/x-python",
   "name": "python",
   "nbconvert_exporter": "python",
   "pygments_lexer": "ipython3",
   "version": "3.11.8"
  },
  "orig_nbformat": 4
 },
 "nbformat": 4,
 "nbformat_minor": 2
}
