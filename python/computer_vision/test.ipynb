{
 "cells": [
  {
   "cell_type": "code",
   "execution_count": 10,
   "metadata": {},
   "outputs": [
    {
     "name": "stdout",
     "output_type": "stream",
     "text": [
      "[[0.46182605]\n",
      " [0.27265001]\n",
      " [0.27948932]]\n"
     ]
    }
   ],
   "source": [
    "import cv2\n",
    "import numpy as np\n",
    "import os\n",
    "import glob\n",
    "import time\n",
    "from IPython.display import clear_output\n",
    "import json\n",
    "\n",
    "tagSize = 0.2\n",
    "\n",
    "corner = [\n",
    "    {\n",
    "        \"x\": 445.92,\n",
    "        \"y\": 340.88\n",
    "    },\n",
    "    {\n",
    "        \"x\": 445.86,\n",
    "        \"y\": 449.92\n",
    "    },\n",
    "    {\n",
    "        \"x\": 553.93,\n",
    "        \"y\": 449.86\n",
    "    },\n",
    "    {\n",
    "        \"x\": 553.84,\n",
    "        \"y\": 340.89\n",
    "    }\n",
    "]\n",
    "\n",
    "corner = np.array([(point['x'], point['y']) for point in corner], dtype=np.float64)\n",
    "\n",
    "objectPoints = np.array([\n",
    "            [-tagSize / 2, -tagSize / 2, 0],\n",
    "            [tagSize / 2, -tagSize / 2, 0],\n",
    "            [tagSize / 2, tagSize / 2, 0],\n",
    "            [-tagSize / 2, tagSize / 2, 0],\n",
    "        ], dtype=np.float64)\n",
    "\n",
    "calibration_data = {\n",
    "        \"mtx\": [\n",
    "            [151.13836173368213, 0.0, 249.16869615047108],\n",
    "            [0.0, 151.07555317759122, 247.0790049731641],\n",
    "            [0.0, 0.0, 1.0],\n",
    "        ],\n",
    "        \"dist\": [\n",
    "            [\n",
    "                -0.0004072754849863926, 0.0008449432688030175,\n",
    "                0.0004268710978072279, 2.0400336739956796e-6,\n",
    "                -0.00011737345044632326,\n",
    "            ],\n",
    "        ],\n",
    "    }\n",
    "\n",
    "r = cv2.solvePnP(objectPoints, corner, np.array(calibration_data['mtx']), np.array(calibration_data['dist']))\n",
    "rvec = r[1]\n",
    "tvec = r[2]\n",
    "print(tvec)\n",
    "\n",
    "#result\n",
    "# [[0.46182605]\n",
    "#  [0.27265001]\n",
    "#  [0.27948932]]"
   ]
  }
 ],
 "metadata": {
  "kernelspec": {
   "display_name": "Python 3",
   "language": "python",
   "name": "python3"
  },
  "language_info": {
   "codemirror_mode": {
    "name": "ipython",
    "version": 3
   },
   "file_extension": ".py",
   "mimetype": "text/x-python",
   "name": "python",
   "nbconvert_exporter": "python",
   "pygments_lexer": "ipython3",
   "version": "3.11.0"
  }
 },
 "nbformat": 4,
 "nbformat_minor": 2
}
