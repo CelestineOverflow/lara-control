{
 "cells": [
  {
   "cell_type": "code",
   "execution_count": null,
   "metadata": {},
   "outputs": [],
   "source": [
    "from arm_api import *\n",
    "\n",
    "\n"
   ]
  },
  {
   "cell_type": "code",
   "execution_count": null,
   "metadata": {},
   "outputs": [],
   "source": [
    "cells = Cell.generate_cells((1, 0), (8, 8))\n",
    "print(f\"Cells: {len(cells)}\")\n",
    "set_brightness(50)\n",
    "\n",
    "#only first 4 cells for now\n",
    "cells = cells[:4]\n",
    "print(f\"Cells: {len(cells)}\")\n",
    "for cell in cells:\n",
    "    print(f\"Cell: {cell.x}, {cell.y}\")"
   ]
  },
  {
   "cell_type": "code",
   "execution_count": null,
   "metadata": {},
   "outputs": [],
   "source": [
    "@labhandler_sequence\n",
    "def testers_code():\n",
    "    print(f\"Testing cell {cell}\")\n",
    "\n",
    "# Running tests over cells\n",
    "for cell in cells:\n",
    "    testers_code(cell)"
   ]
  }
 ],
 "metadata": {
  "kernelspec": {
   "display_name": "Python 3",
   "language": "python",
   "name": "python3"
  },
  "language_info": {
   "codemirror_mode": {
    "name": "ipython",
    "version": 3
   },
   "file_extension": ".py",
   "mimetype": "text/x-python",
   "name": "python",
   "nbconvert_exporter": "python",
   "pygments_lexer": "ipython3",
   "version": "3.11.8"
  }
 },
 "nbformat": 4,
 "nbformat_minor": 2
}
