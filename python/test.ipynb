{
 "cells": [
  {
   "cell_type": "code",
   "execution_count": 4,
   "metadata": {},
   "outputs": [
    {
     "name": "stdout",
     "output_type": "stream",
     "text": [
      "[  0.   0. 180.]\n",
      "[  0.   0. 180.]\n",
      "[-180.           -0.         -149.99997032]\n",
      "q3: [0. 0. 0.]\n"
     ]
    }
   ],
   "source": [
    "\n",
    "\n",
    "import numpy as np\n",
    "from scipy.spatial.transform import Rotation as R\n",
    "\n",
    "import math as Math\n",
    "\n",
    "#[ 0, 0, 0, 1 ]\n",
    "q1 = R.from_quat((0, 0, 1, 0))\n",
    "print(q1.as_euler('xyz', degrees=True))\n",
    "q2 = R.from_quat((0, 0, 1, 0))\n",
    "print(q2.as_euler('xyz', degrees=True))\n",
    "q4 = R.from_quat((0.2588192952625891, -0.9659257592588453, 9.939400520544888e-13, 2.105078795953449e-12))\n",
    "print(q4.as_euler('xyz', degrees=True))\n",
    "#subtract\n",
    "q3 = q1 * q2.inv()\n",
    "q5 = q1 * q4.inv()\n",
    "\n",
    "#print euler xyz\n",
    "np.set_printoptions(suppress=True)\n",
    "print(f\"q3: {q3.as_euler('xyz', degrees=True)}\")"
   ]
  },
  {
   "cell_type": "code",
   "execution_count": null,
   "metadata": {},
   "outputs": [],
   "source": [
    "from plunger import Plunger\n",
    "\n",
    "serial_handler = Plunger(\"COM13\", 115200)\n",
    "serial_handler.start()\n",
    "\n",
    "while True:\n",
    "    if not serial_handler.output.empty():\n",
    "        json_data = serial_handler.output.get()\n",
    "        print(json_data)"
   ]
  },
  {
   "cell_type": "code",
   "execution_count": null,
   "metadata": {},
   "outputs": [],
   "source": [
    "\n",
    "lara.robot.turn_on_jog(\n",
    "    jog_velocity=[0, 0, speed, 0, 0, 0],\n",
    "    jog_type='Cartesian'\n",
    ")\n",
    "interval_s = interval_ms / 1000\n",
    "for i in range(iterations):\n",
    "    lara.robot.jog(set_jogging_external_flag=1)\n",
    "lara.robot.turn_off_jog()"
   ]
  },
  {
   "cell_type": "code",
   "execution_count": null,
   "metadata": {},
   "outputs": [],
   "source": []
  }
 ],
 "metadata": {
  "kernelspec": {
   "display_name": "Python 3",
   "language": "python",
   "name": "python3"
  },
  "language_info": {
   "codemirror_mode": {
    "name": "ipython",
    "version": 3
   },
   "file_extension": ".py",
   "mimetype": "text/x-python",
   "name": "python",
   "nbconvert_exporter": "python",
   "pygments_lexer": "ipython3",
   "version": "3.11.8"
  }
 },
 "nbformat": 4,
 "nbformat_minor": 2
}
